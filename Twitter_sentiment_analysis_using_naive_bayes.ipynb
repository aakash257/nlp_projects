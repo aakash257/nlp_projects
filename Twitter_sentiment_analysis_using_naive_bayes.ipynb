{
 "cells": [
  {
   "cell_type": "code",
   "execution_count": 1,
   "id": "2e03eb36",
   "metadata": {},
   "outputs": [
    {
     "name": "stdout",
     "output_type": "stream",
     "text": [
      "time: 0 ns (started: 2021-09-06 22:36:02 -06:00)\n"
     ]
    }
   ],
   "source": [
    "%load_ext autotime"
   ]
  },
  {
   "cell_type": "markdown",
   "id": "aff5928e",
   "metadata": {},
   "source": [
    "Sentiment Analysis/Classification is an important NLP task as it allows businesses to learn about their customers' sentiments. Companies can save time and costs from manually labeling sentiments by training an NLP model for sentiment classification and then using the same model to predict sentiments for unseen texts.  \n",
    "\n",
    "Our main goal is to identify an optimally performing classifier that classifies tweets into positive and negative. Objectively, we find answers for the below two questions:\n",
    "- Which classifier among the classifiers - Naive Bayes, Logistic Regression, SVM, and XGBoost predicts sentiments better and why?\n",
    "- Which words have more weights in positive and negative sentiments for a classifier to determine positive sentiments or negative sentiments?\n",
    "\n",
    "In this notebook, we predict sentiments for tweets using the Naive Bayes classifier. "
   ]
  },
  {
   "cell_type": "markdown",
   "id": "046a94d7",
   "metadata": {},
   "source": [
    "First, let us prepare our dataset before converting it into features/inputs of the classification model. In the following few cells of this notebook, we will process our dataset by filtering out irrelevant information."
   ]
  },
  {
   "cell_type": "code",
   "execution_count": 2,
   "id": "23b6ef3f",
   "metadata": {},
   "outputs": [
    {
     "data": {
      "text/html": [
       "<div>\n",
       "<style scoped>\n",
       "    .dataframe tbody tr th:only-of-type {\n",
       "        vertical-align: middle;\n",
       "    }\n",
       "\n",
       "    .dataframe tbody tr th {\n",
       "        vertical-align: top;\n",
       "    }\n",
       "\n",
       "    .dataframe thead th {\n",
       "        text-align: right;\n",
       "    }\n",
       "</style>\n",
       "<table border=\"1\" class=\"dataframe\">\n",
       "  <thead>\n",
       "    <tr style=\"text-align: right;\">\n",
       "      <th></th>\n",
       "      <th>id</th>\n",
       "      <th>label</th>\n",
       "      <th>tweet</th>\n",
       "    </tr>\n",
       "  </thead>\n",
       "  <tbody>\n",
       "    <tr>\n",
       "      <th>0</th>\n",
       "      <td>1</td>\n",
       "      <td>0</td>\n",
       "      <td>@user when a father is dysfunctional and is s...</td>\n",
       "    </tr>\n",
       "    <tr>\n",
       "      <th>1</th>\n",
       "      <td>2</td>\n",
       "      <td>0</td>\n",
       "      <td>@user @user thanks for #lyft credit i can't us...</td>\n",
       "    </tr>\n",
       "    <tr>\n",
       "      <th>2</th>\n",
       "      <td>3</td>\n",
       "      <td>0</td>\n",
       "      <td>bihday your majesty</td>\n",
       "    </tr>\n",
       "    <tr>\n",
       "      <th>3</th>\n",
       "      <td>4</td>\n",
       "      <td>0</td>\n",
       "      <td>#model   i love u take with u all the time in ...</td>\n",
       "    </tr>\n",
       "    <tr>\n",
       "      <th>4</th>\n",
       "      <td>5</td>\n",
       "      <td>0</td>\n",
       "      <td>factsguide: society now    #motivation</td>\n",
       "    </tr>\n",
       "  </tbody>\n",
       "</table>\n",
       "</div>"
      ],
      "text/plain": [
       "   id  label                                              tweet\n",
       "0   1      0   @user when a father is dysfunctional and is s...\n",
       "1   2      0  @user @user thanks for #lyft credit i can't us...\n",
       "2   3      0                                bihday your majesty\n",
       "3   4      0  #model   i love u take with u all the time in ...\n",
       "4   5      0             factsguide: society now    #motivation"
      ]
     },
     "execution_count": 2,
     "metadata": {},
     "output_type": "execute_result"
    },
    {
     "name": "stdout",
     "output_type": "stream",
     "text": [
      "time: 813 ms (started: 2021-09-06 22:36:02 -06:00)\n"
     ]
    }
   ],
   "source": [
    "import pandas as pd\n",
    "import numpy as np\n",
    "\n",
    "# Load twitter dataset as a pandas dataframe\n",
    "# dataset source - https://www.kaggle.com/arkhoshghalb/twitter-sentiment-analysis-hatred-speech\n",
    "tweets_df = pd.read_csv(\"twitter.csv\")\n",
    "tweets_df.head()"
   ]
  },
  {
   "cell_type": "code",
   "execution_count": 3,
   "id": "8bcb22af",
   "metadata": {},
   "outputs": [
    {
     "name": "stdout",
     "output_type": "stream",
     "text": [
      "A tweet with positive sentiment: #model   i love u take with u all the time in urð±!!! ðððð",
      "ð¦ð¦ð¦  \n",
      "A tweet with negative sentiment: @user lets fight against  #love #peace \n",
      "time: 0 ns (started: 2021-09-06 22:36:03 -06:00)\n"
     ]
    }
   ],
   "source": [
    "print(\"A tweet with positive sentiment:\", tweets_df[tweets_df['label']==0].tweet.iloc[3])\n",
    "print(\"A tweet with negative sentiment:\", tweets_df[tweets_df['label']==1].tweet.iloc[5])"
   ]
  },
  {
   "cell_type": "markdown",
   "id": "522d448e",
   "metadata": {},
   "source": [
    "Column 'id' is not useful in our analysis. So, we will drop the column by using drop method of the dataframe."
   ]
  },
  {
   "cell_type": "code",
   "execution_count": 4,
   "id": "7baf76f8",
   "metadata": {},
   "outputs": [
    {
     "name": "stdout",
     "output_type": "stream",
     "text": [
      "time: 0 ns (started: 2021-09-06 22:36:03 -06:00)\n"
     ]
    }
   ],
   "source": [
    "tweets_df.drop(['id'], axis=1, inplace=True) #inplace=True drops 'id' column in the original dataframe"
   ]
  },
  {
   "cell_type": "markdown",
   "id": "f7939a12",
   "metadata": {},
   "source": [
    "Let us see how many tweets have positive and negative sentiments."
   ]
  },
  {
   "cell_type": "code",
   "execution_count": 5,
   "id": "cede4521",
   "metadata": {},
   "outputs": [
    {
     "data": {
      "text/plain": [
       "<AxesSubplot:xlabel='label', ylabel='count'>"
      ]
     },
     "execution_count": 5,
     "metadata": {},
     "output_type": "execute_result"
    },
    {
     "data": {
      "image/png": "[encoded data removed]",
      "text/plain": [
       "<Figure size 432x288 with 1 Axes>"
      ]
     },
     "metadata": {
      "needs_background": "light"
     },
     "output_type": "display_data"
    },
    {
     "name": "stdout",
     "output_type": "stream",
     "text": [
      "time: 1.19 s (started: 2021-09-06 22:36:03 -06:00)\n"
     ]
    }
   ],
   "source": [
    "import matplotlib.pyplot as plt\n",
    "import seaborn as sns\n",
    "sns.countplot(x='label', data=tweets_df)"
   ]
  },
  {
   "cell_type": "code",
   "execution_count": 6,
   "id": "f69423d8",
   "metadata": {},
   "outputs": [
    {
     "data": {
      "text/plain": [
       "0    29720\n",
       "1     2242\n",
       "Name: label, dtype: int64"
      ]
     },
     "execution_count": 6,
     "metadata": {},
     "output_type": "execute_result"
    },
    {
     "name": "stdout",
     "output_type": "stream",
     "text": [
      "time: 0 ns (started: 2021-09-06 22:36:04 -06:00)\n"
     ]
    }
   ],
   "source": [
    "tweets_df['label'].value_counts()"
   ]
  },
  {
   "cell_type": "markdown",
   "id": "efe265c2",
   "metadata": {},
   "source": [
    "From the above count plot, we can see that we have 13 times more positive tweets (tweets with positive sentiments) than negative tweets (tweets with negative sentiments). We will need to balance the dataset because this imbalance in the dataset might influence our classifier to learn more from the features associated with positive tweets than with negative tweets, even when features should be equally important in classifying a tweet into positive or negative sentiment. For example, word \"Texas, representing a state, should be equally important (or not important) in classifying a tweet into positive or negative sentiment. Besides, we might also see our classifier predicting positive sentiment for every tweet to get a high accuracy (low value of loss function) on the dev set without actually learning the mapping between features and classes. \n",
    "\n",
    "Let us now clean our dataset before we handle the imbalanced dataset."
   ]
  },
  {
   "cell_type": "code",
   "execution_count": 7,
   "id": "d8da4040",
   "metadata": {},
   "outputs": [
    {
     "name": "stdout",
     "output_type": "stream",
     "text": [
      "['i', 'me', 'my', 'myself', 'we', 'our', 'ours', 'ourselves', 'you', \"you're\", \"you've\", \"you'll\", \"you'd\", 'your', 'yours', 'yourself', 'yourselves', 'he', 'him', 'his', 'himself', 'she', \"she's\", 'her', 'hers', 'herself', 'it', \"it's\", 'its', 'itself', 'they', 'them', 'their', 'theirs', 'themselves', 'what', 'which', 'who', 'whom', 'this', 'that', \"that'll\", 'these', 'those', 'am', 'is', 'are', 'was', 'were', 'be', 'been', 'being', 'have', 'has', 'had', 'having', 'do', 'does', 'did', 'doing', 'a', 'an', 'the', 'and', 'but', 'if', 'or', 'because', 'as', 'until', 'while', 'of', 'at', 'by', 'for', 'with', 'about', 'against', 'between', 'into', 'through', 'during', 'before', 'after', 'above', 'below', 'to', 'from', 'up', 'down', 'in', 'out', 'on', 'off', 'over', 'under', 'again', 'further', 'then', 'once', 'here', 'there', 'when', 'where', 'why', 'how', 'all', 'any', 'both', 'each', 'few', 'more', 'most', 'other', 'some', 'such', 'no', 'nor', 'not', 'only', 'own', 'same', 'so', 'than', 'too', 'very', 's', 't', 'can', 'will', 'just', 'don', \"don't\", 'should', \"should've\", 'now', 'd', 'll', 'm', 'o', 're', 've', 'y', 'ain', 'aren', \"aren't\", 'couldn', \"couldn't\", 'didn', \"didn't\", 'doesn', \"doesn't\", 'hadn', \"hadn't\", 'hasn', \"hasn't\", 'haven', \"haven't\", 'isn', \"isn't\", 'ma', 'mightn', \"mightn't\", 'mustn', \"mustn't\", 'needn', \"needn't\", 'shan', \"shan't\", 'shouldn', \"shouldn't\", 'wasn', \"wasn't\", 'weren', \"weren't\", 'won', \"won't\", 'wouldn', \"wouldn't\"]\n",
      "time: 828 ms (started: 2021-09-06 22:36:04 -06:00)\n"
     ]
    }
   ],
   "source": [
    "from nltk.corpus import stopwords\n",
    "print(stopwords.words('english'))"
   ]
  },
  {
   "cell_type": "code",
   "execution_count": 8,
   "id": "9a12345c",
   "metadata": {},
   "outputs": [
    {
     "name": "stdout",
     "output_type": "stream",
     "text": [
      "time: 0 ns (started: 2021-09-06 22:36:05 -06:00)\n"
     ]
    }
   ],
   "source": [
    "import string\n",
    "import nltk # Natural Language tool kit \n",
    "from nltk.corpus import stopwords\n",
    "#print(string.punctuation)\n",
    "#print(stopwords.words('english'))\n",
    "\n",
    "# Create cleaned stopwords list by removing punctuations\n",
    "stopwords_new = stopwords.words('english')+['user'] # add the word 'user' as a stopword since it has no value\n",
    "stopwords_new = ''.join([ch for ch in ' '.join(stopwords_new) if ch not in string.punctuation]).split(' ')\n",
    "\n",
    "# Create a function that filters punctuations and stop words from any text\n",
    "def preprocess_text(text):\n",
    "    filtered_text = ''.join([ch for ch in text if ch not in string.punctuation])\n",
    "    preprocessed_text = ' '.join([word for word in filtered_text.split() if word.lower() not in stopwords_new])\n",
    "    return preprocessed_text"
   ]
  },
  {
   "cell_type": "code",
   "execution_count": 9,
   "id": "c8708d96",
   "metadata": {},
   "outputs": [
    {
     "data": {
      "text/html": [
       "<div>\n",
       "<style scoped>\n",
       "    .dataframe tbody tr th:only-of-type {\n",
       "        vertical-align: middle;\n",
       "    }\n",
       "\n",
       "    .dataframe tbody tr th {\n",
       "        vertical-align: top;\n",
       "    }\n",
       "\n",
       "    .dataframe thead th {\n",
       "        text-align: right;\n",
       "    }\n",
       "</style>\n",
       "<table border=\"1\" class=\"dataframe\">\n",
       "  <thead>\n",
       "    <tr style=\"text-align: right;\">\n",
       "      <th></th>\n",
       "      <th>label</th>\n",
       "      <th>tweet</th>\n",
       "      <th>clean_tweet</th>\n",
       "    </tr>\n",
       "  </thead>\n",
       "  <tbody>\n",
       "    <tr>\n",
       "      <th>0</th>\n",
       "      <td>0</td>\n",
       "      <td>@user when a father is dysfunctional and is s...</td>\n",
       "      <td>father dysfunctional selfish drags kids dysfun...</td>\n",
       "    </tr>\n",
       "    <tr>\n",
       "      <th>1</th>\n",
       "      <td>0</td>\n",
       "      <td>@user @user thanks for #lyft credit i can't us...</td>\n",
       "      <td>thanks lyft credit cant use cause offer wheelc...</td>\n",
       "    </tr>\n",
       "  </tbody>\n",
       "</table>\n",
       "</div>"
      ],
      "text/plain": [
       "   label                                              tweet  \\\n",
       "0      0   @user when a father is dysfunctional and is s...   \n",
       "1      0  @user @user thanks for #lyft credit i can't us...   \n",
       "\n",
       "                                         clean_tweet  \n",
       "0  father dysfunctional selfish drags kids dysfun...  \n",
       "1  thanks lyft credit cant use cause offer wheelc...  "
      ]
     },
     "execution_count": 9,
     "metadata": {},
     "output_type": "execute_result"
    },
    {
     "name": "stdout",
     "output_type": "stream",
     "text": [
      "time: 953 ms (started: 2021-09-06 22:36:05 -06:00)\n"
     ]
    }
   ],
   "source": [
    "# Use the above function on every row of our tweets_df\n",
    "tweets_df['clean_tweet'] = tweets_df.tweet.map(lambda row: preprocess_text(row))\n",
    "tweets_df.head(2)"
   ]
  },
  {
   "cell_type": "markdown",
   "id": "7985d72a",
   "metadata": {},
   "source": [
    "Let us now split this dataset into training and validation/dev sets and then balance it. Why is this a better approach than balancing the dataset before splitting it? \n",
    "\n",
    "Splitting the dataset before balancing it ensures the validation dataset remains truly unseen. How so? By balancing the original dataset, we will duplicate the tweets of the minority class, negative tweets in our case, which will make these duplicated tweets appear in the training and validation set. Therefore, the classifier making predictions on the validation set might be seeing a few of these tweets in the training set. So, the classifier's performance on the validation set will not be an accurate estimate of the true performance of the classifier on unseen documents since the validation set is not truly unseen. \n",
    "\n",
    "So, we will first divide the dataset into training and validation sets and then handle the imbalanced training set. This way, our classifier will see an equal number of positive and negative labeled documents, ensuring that the classifier learns a mapping between features and classes. And, the validation set remains truly unseen."
   ]
  },
  {
   "cell_type": "markdown",
   "id": "b41ef225",
   "metadata": {},
   "source": [
    "Even before we split the original dataset into training and validation sets, we will transform each tweet into count-based feature vector. Sklearn provides classes for vectorizing text into numbers, such as the CountVectorizer or TFIDFVectorizer. \n",
    "\n",
    "First, we will instantiate CountVectorizer class. Since we have already cleaned our tweets, we do not need to create a pipeline for preprocessing and vectorizing tweets. If we want to create this pipeline, we could pass our preprocess_text function as a pipeline component. More specifically, we can assign the analyzer attribute of CountVectorizer class to the preprocess_text function:\n",
    "\n",
    "```CountVectorizer(analyzer = preprocess_text)``` \n",
    "\n",
    "This pipeline will first clean tweets using our preprocess_text function, and then it will convert the cleaned tweets into vectors of numbers based on word counts. "
   ]
  },
  {
   "cell_type": "code",
   "execution_count": 10,
   "id": "10ecc3bc",
   "metadata": {},
   "outputs": [
    {
     "data": {
      "text/plain": [
       "(31962, 43654)"
      ]
     },
     "execution_count": 10,
     "metadata": {},
     "output_type": "execute_result"
    },
    {
     "name": "stdout",
     "output_type": "stream",
     "text": [
      "time: 313 ms (started: 2021-09-06 22:36:06 -06:00)\n"
     ]
    }
   ],
   "source": [
    "from sklearn.feature_extraction.text import CountVectorizer\n",
    "countvectorizer_obj = CountVectorizer(dtype = 'uint8') # dtype describes the datatype of each element of the Count matrix\n",
    "# Unsigned integer of 8 bits can take any value between 0 and 255 (=2^8-1). Since number of characters in a tweet is \n",
    "# fixed at 140 (now 280 - https://help.twitter.com/en/using-twitter/how-to-tweet), we do not expect any tweet to \n",
    "# have a word that is repeated 255 times.\n",
    "tweets_countvectorizer = countvectorizer_obj.fit_transform(tweets_df['clean_tweet'])\n",
    "tweets_countvectorizer.shape"
   ]
  },
  {
   "cell_type": "code",
   "execution_count": 11,
   "id": "76c0bd72",
   "metadata": {},
   "outputs": [
    {
     "name": "stdout",
     "output_type": "stream",
     "text": [
      "time: 156 ms (started: 2021-09-06 22:36:06 -06:00)\n"
     ]
    }
   ],
   "source": [
    "X = pd.DataFrame(tweets_countvectorizer.toarray())\n",
    "y = tweets_df['label']"
   ]
  },
  {
   "cell_type": "markdown",
   "id": "2fc47c72",
   "metadata": {},
   "source": [
    "We have converted tweets into count-based feature vectors where each tweet is now a 43,654-dimensional vector. Each of these dimensions is associated with a token out of 43,654 tokens of our vocabulary.\n",
    "\n",
    "Let us now split 31,962 vectorized tweets into training and dev datasets using sklearn's train_test_split method such that our validation/dev set consists of 20 percent of 31,962 tweets. We also stratify such that we have similar ratios of positive and negative labels in training and dev datasets."
   ]
  },
  {
   "cell_type": "code",
   "execution_count": 12,
   "id": "64892c04",
   "metadata": {},
   "outputs": [
    {
     "name": "stdout",
     "output_type": "stream",
     "text": [
      "time: 1.02 s (started: 2021-09-06 22:36:06 -06:00)\n"
     ]
    }
   ],
   "source": [
    "from sklearn.model_selection import train_test_split\n",
    "train_X, dev_X, train_y, dev_y = train_test_split(X, y, test_size=0.2, stratify=tweets_df['label'])"
   ]
  },
  {
   "cell_type": "code",
   "execution_count": 13,
   "id": "4d0cebeb",
   "metadata": {},
   "outputs": [
    {
     "name": "stdout",
     "output_type": "stream",
     "text": [
      "Training dataset\n",
      "Total number of tweets:  25569\n",
      "Number of positive tweets:  23775\n",
      "Number of negative tweets:  1794\n",
      "\n",
      "Validation dataset\n",
      "Total number of tweets:  6393\n",
      "Number of positive tweets:  5945\n",
      "Number of negative tweets:  448\n",
      "time: 16 ms (started: 2021-09-06 22:36:07 -06:00)\n"
     ]
    }
   ],
   "source": [
    "print('Training dataset')\n",
    "\n",
    "print('Total number of tweets: ', len(train_y))\n",
    "print('Number of positive tweets: ', sum(train_y==0))\n",
    "print('Number of negative tweets: ', sum(train_y==1))\n",
    "\n",
    "\n",
    "print('\\nValidation dataset')\n",
    "\n",
    "print('Total number of tweets: ', len(dev_y))\n",
    "print('Number of positive tweets: ', sum(dev_y==0))\n",
    "print('Number of negative tweets: ', sum(dev_y==1))"
   ]
  },
  {
   "cell_type": "code",
   "execution_count": 14,
   "id": "aa6dee33",
   "metadata": {},
   "outputs": [
    {
     "name": "stdout",
     "output_type": "stream",
     "text": [
      "0.8.0\n",
      "time: 219 ms (started: 2021-09-06 22:36:07 -06:00)\n"
     ]
    }
   ],
   "source": [
    "# Load imblearn python package for handling imbalanced dataset\n",
    "# To install imblearn package, uncomment the below line of code\n",
    "#!pip install imblearn\n",
    "import imblearn\n",
    "print(imblearn.__version__)"
   ]
  },
  {
   "cell_type": "code",
   "execution_count": 15,
   "id": "4a39f728",
   "metadata": {},
   "outputs": [
    {
     "name": "stdout",
     "output_type": "stream",
     "text": [
      "time: 41 s (started: 2021-09-06 22:36:07 -06:00)\n"
     ]
    }
   ],
   "source": [
    "oversample = imblearn.over_sampling.RandomOverSampler(sampling_strategy='minority') #sampling_strategy lets you \n",
    "# define imbalanced data handling strategy\n",
    "# For more details, see https://imbalanced-learn.org/dev/references/generated/imblearn.over_sampling.RandomOverSampler.html\n",
    "oversampled_train_X, oversampled_train_y = oversample.fit_resample(train_X, train_y)"
   ]
  },
  {
   "cell_type": "code",
   "execution_count": 16,
   "id": "95421794",
   "metadata": {},
   "outputs": [
    {
     "name": "stdout",
     "output_type": "stream",
     "text": [
      "After balancing the training dataset\n",
      "Number of positive tweets:  23775\n",
      "Number of negative tweets:  23775\n",
      "time: 15 ms (started: 2021-09-06 22:36:48 -06:00)\n"
     ]
    }
   ],
   "source": [
    "print('After balancing the training dataset')\n",
    "\n",
    "print('Number of positive tweets: ', sum(oversampled_train_y==0))\n",
    "print('Number of negative tweets: ', sum(oversampled_train_y==1))"
   ]
  },
  {
   "cell_type": "code",
   "execution_count": 17,
   "id": "d6025523",
   "metadata": {},
   "outputs": [
    {
     "data": {
      "text/plain": [
       "(47550, 43654)"
      ]
     },
     "execution_count": 17,
     "metadata": {},
     "output_type": "execute_result"
    },
    {
     "name": "stdout",
     "output_type": "stream",
     "text": [
      "time: 0 ns (started: 2021-09-06 22:36:48 -06:00)\n"
     ]
    }
   ],
   "source": [
    "oversampled_train_X.shape"
   ]
  },
  {
   "cell_type": "markdown",
   "id": "57546d0a",
   "metadata": {},
   "source": [
    "Now, we have balanced our training dataset by duplicating negative tweets, which represents our minority class. So finally, we have a balanced training dataset of 23,775 positive and negative tweets. Next, we will train our Naive Bayes classifier on this balanced dataset."
   ]
  },
  {
   "cell_type": "markdown",
   "id": "709da278",
   "metadata": {},
   "source": [
    "Naive Bayes classifier is a classification algorithm based on the Bayes theorem. It applies the Naive Bayes theorem on multinomially distributed data to classify data. It allows us to compute the probability of a class given sample data, and assumes the predictors/features are independent of each other. So, each predictor contributes to the probability of a class independently, which makes this classifier naive. If we do not consider this assumption, then we will have $k*(2^{vocab size}-1)$\n",
    "\n",
    "Let us take an example of whether a gym will be open or closed. And let's say this depends on whether the gym has enough staff available and whether a given day is a holiday. Although the presence or absence of staff might depend on whether today is a holiday or not, the Naive Bayes considers them independent in the estimation of the probability of whether the gym will be open or not. It considers these features independent because the multinomial distribution of data assumes the independence of features.\n",
    "\n",
    "Fitting a Naive Bayes classifier model on training data means estimating the likelihoods of a tweet in the training dataset for each class and then identifying the class with maximum posterior probability for the tweet. Later, we will explain this in more detail."
   ]
  },
  {
   "cell_type": "code",
   "execution_count": 18,
   "id": "adee2daf",
   "metadata": {},
   "outputs": [
    {
     "data": {
      "text/plain": [
       "MultinomialNB()"
      ]
     },
     "execution_count": 18,
     "metadata": {},
     "output_type": "execute_result"
    },
    {
     "name": "stdout",
     "output_type": "stream",
     "text": [
      "time: 2min 6s (started: 2021-09-06 22:36:48 -06:00)\n"
     ]
    }
   ],
   "source": [
    "from sklearn.naive_bayes import MultinomialNB\n",
    "# Instantiate multinomial naive bayes classifier\n",
    "NB_classifier = MultinomialNB()\n",
    "NB_classifier.fit(oversampled_train_X, oversampled_train_y)"
   ]
  },
  {
   "cell_type": "code",
   "execution_count": 19,
   "id": "6e15a9bf",
   "metadata": {},
   "outputs": [
    {
     "name": "stdout",
     "output_type": "stream",
     "text": [
      "[23775. 23775.]\n",
      "time: 16 ms (started: 2021-09-06 22:38:55 -06:00)\n"
     ]
    }
   ],
   "source": [
    "# Number of samples associated with each class label\n",
    "print(NB_classifier.class_count_)"
   ]
  },
  {
   "cell_type": "code",
   "execution_count": 20,
   "id": "3f6c9e58",
   "metadata": {},
   "outputs": [
    {
     "name": "stdout",
     "output_type": "stream",
     "text": [
      "[[  1.   1.   0. ... 223.   1.   1.]\n",
      " [  0.   0.   0. ...   0.   0.  12.]]\n",
      "Shape of classXfeature matrix: (2, 43654)\n",
      "time: 16 ms (started: 2021-09-06 22:38:55 -06:00)\n"
     ]
    }
   ],
   "source": [
    "# Each feature's occurence in a class is stored in NB_classifier.feature_count_\n",
    "print(NB_classifier.feature_count_)\n",
    "\n",
    "# with shape\n",
    "print('Shape of classXfeature matrix:', NB_classifier.feature_count_.shape)"
   ]
  },
  {
   "cell_type": "code",
   "execution_count": 21,
   "id": "565a460f",
   "metadata": {},
   "outputs": [
    {
     "name": "stdout",
     "output_type": "stream",
     "text": [
      "Count of all tokens in positive tweets =  184992.0\n",
      "Count of all tokens in negative tweets =  194485.0\n",
      "time: 0 ns (started: 2021-09-06 22:38:55 -06:00)\n"
     ]
    }
   ],
   "source": [
    "sum_pos = NB_classifier.feature_count_.sum(axis=1)[0]\n",
    "sum_neg = NB_classifier.feature_count_.sum(axis=1)[1]\n",
    "\n",
    "print('Count of all tokens in positive tweets = ', sum_pos)\n",
    "print('Count of all tokens in negative tweets = ', sum_neg)"
   ]
  },
  {
   "cell_type": "markdown",
   "id": "52d1ef35",
   "metadata": {},
   "source": [
    "#### Procedure for classification\n",
    "\n",
    "Identifying a class for an unseen tweet is computing posterior probabilities for each of the two classes given the tweet and identifying the maximum of two probabilities. We can calculate the posterior probability for a class, e.g., positive class, by multiplying the likelihood of the unseen tweet given a positive class with the prior probability of the positive class. Since the number of positive tweets is equal to the number of negative tweets in our training set, prior probabilities for both classes equal 0.5. \n",
    "\n",
    "Let us take an example of an unseen tweet as 'algebra is great' and demonstrate the computations involved below: \n",
    "\n",
    "$$posterior\\;probability = \\frac{likelihood * prior\\;probability}{marginal\\;probability}$$\n",
    "\n",
    "$$p(class|tweet) = \\frac{p(tweet|class) * p(class)}{p(tweet)}$$\n",
    "\n",
    "Since occurrences of features are assumed to be independent of each other, we can compute likelihoods of observing a tweet ```algebra is great``` in positive and negative classes by calculating the product of likelihoods of observing individual words of a tweet in each of the two classes as well as the marginal probability of tweet (= probability of a single event of observing the tweet while ignoring tweet's dependence on any other event) in the following way.\n",
    "\n",
    "$$\n",
    "p(tweet|class=positive) = p(algebra|class=positive)*p(is|class=positive)*p(great|class=positive)\n",
    "$$\n",
    "\n",
    "$$\n",
    "p(tweet|class=negative) = p(algebra|class=negative)*p(is|class=negative)*p(great|class=negative)\n",
    "$$\n",
    "\n",
    "$$\n",
    "p(tweet) = p(algebra) * p(is) * p(great)\n",
    "$$\n",
    "\n",
    "In this notebook, we have assumed our data to be multinomially distributed. Maximum likelihood estimation of a multinomially distributed data results in a smoothed likelihood estimate of observing a token in a particular class:\n",
    "\n",
    "$$\n",
    "p(token|class=positive) = \\frac{Count\\;of\\;token\\;in\\;positive\\;tweets + \\alpha}{Total\\;count\\;of\\;all\\;tokens\\;in\\;positive\\;tweets + \\alpha*number\\;of\\;tokens}\n",
    "$$\n",
    "\n",
    "Alpha is a smoothing coefficient to deal with tokens that have zero frequency in a class. \n",
    "\n",
    "If ```p(tweet|class=positive) > p(tweet|class=negative)```, then ```NB_classifier``` will assign tweet as positive otherwise negative since marginal probability of tweet, ```p(tweet)```, is same for both the classes."
   ]
  },
  {
   "cell_type": "markdown",
   "id": "25c78fe4",
   "metadata": {},
   "source": [
    "Let us identify which tokens have high likelihoods within each class. We will evaluate log-likelihoods instead of just likelihoods since likelihood values are very small. For example, the highest likelihood value for a positive class associated with a token is 0.001. All other likelihood values will be smaller than this value. "
   ]
  },
  {
   "cell_type": "code",
   "execution_count": 22,
   "id": "7664717f",
   "metadata": {},
   "outputs": [
    {
     "name": "stdout",
     "output_type": "stream",
     "text": [
      "Maximum log likelihood value for positive class =  -4.68075886728068\n",
      "Corresponding likelihood value for the above log likelihood =  2.0856485734239707e-05\n",
      "time: 15 ms (started: 2021-09-06 22:38:55 -06:00)\n"
     ]
    }
   ],
   "source": [
    "print('Maximum log likelihood value for positive class = ', max(NB_classifier.feature_log_prob_[0]))\n",
    "\n",
    "print('Corresponding likelihood value for the above log likelihood = ', pow(10, max(NB_classifier.feature_log_prob_[0])))      "
   ]
  },
  {
   "cell_type": "markdown",
   "id": "7a9689e1",
   "metadata": {},
   "source": [
    "Since Sklearn's feature_log_prob_ matrix is a token's index by log probability matrix, we will need to convert index into token. Sklearn's count vectorizer creates a token-to-index mapping for all tokens from our training data's vocabulary, which is stored in the 'vocabulary_' attribute of countvectorizer_obj. We will first create a dictionary for storing index as keys and tokens as values (reversing the token-to-index mapping to index-to-token mapping) and then use this dictionary to create a list of tuples of the form ```(token, log probability) ```."
   ]
  },
  {
   "cell_type": "code",
   "execution_count": 24,
   "id": "c28d407f",
   "metadata": {},
   "outputs": [
    {
     "name": "stdout",
     "output_type": "stream",
     "text": [
      "time: 32 ms (started: 2021-09-06 22:38:55 -06:00)\n"
     ]
    }
   ],
   "source": [
    "# reverse token to index mapping and store this as a dictionary\n",
    "key_vocab = {}\n",
    "\n",
    "for word in countvectorizer_obj.vocabulary_:\n",
    "    key_vocab[countvectorizer_obj.vocabulary_[word]] = word"
   ]
  },
  {
   "cell_type": "code",
   "execution_count": 25,
   "id": "3e1760d5",
   "metadata": {},
   "outputs": [
    {
     "name": "stdout",
     "output_type": "stream",
     "text": [
      "time: 94 ms (started: 2021-09-06 22:38:55 -06:00)\n"
     ]
    }
   ],
   "source": [
    "pos_log_likelihoods = list(enumerate(NB_classifier.feature_log_prob_[0]))\n",
    "pos_log_likelihoods.sort(key=lambda a: a[1], reverse=True)\n",
    "pos_words_log_likelihoods = [(key_vocab[tup[0]], tup[1]) for tup in pos_log_likelihoods]\n",
    "\n",
    "neg_log_likelihoods = list(enumerate(NB_classifier.feature_log_prob_[1]))\n",
    "neg_log_likelihoods.sort(key=lambda a: a[1], reverse=True)\n",
    "neg_words_log_likelihoods = [(key_vocab[tup[0]], tup[1]) for tup in neg_log_likelihoods]"
   ]
  },
  {
   "cell_type": "code",
   "execution_count": 26,
   "id": "133a6cfd",
   "metadata": {},
   "outputs": [
    {
     "data": {
      "text/plain": [
       "[('love', -4.68075886728068),\n",
       " ('day', -4.877715295178549),\n",
       " ('happy', -5.156059519884286),\n",
       " ('amp', -5.402616153723057),\n",
       " ('life', -5.534207681529753),\n",
       " ('im', -5.541989821971808),\n",
       " ('time', -5.557738178939947),\n",
       " ('today', -5.688358361357011),\n",
       " ('thankful', -5.707928457551108),\n",
       " ('positive', -5.722527256972261)]"
      ]
     },
     "execution_count": 26,
     "metadata": {},
     "output_type": "execute_result"
    },
    {
     "name": "stdout",
     "output_type": "stream",
     "text": [
      "time: 0 ns (started: 2021-09-06 22:38:55 -06:00)\n"
     ]
    }
   ],
   "source": [
    "pos_words_log_likelihoods[:10]"
   ]
  },
  {
   "cell_type": "code",
   "execution_count": 27,
   "id": "ae1d507c",
   "metadata": {},
   "outputs": [
    {
     "data": {
      "text/plain": [
       "[('amp', -4.436472324671689),\n",
       " ('trump', -4.670404621353269),\n",
       " ('libtard', -4.986731525678046),\n",
       " ('like', -5.052172462890639),\n",
       " ('white', -5.091682121264545),\n",
       " ('black', -5.125725005708463),\n",
       " ('racist', -5.3506369040794155),\n",
       " ('politics', -5.409879737642276),\n",
       " ('people', -5.540063286497114),\n",
       " ('liberal', -5.5551497795304945)]"
      ]
     },
     "execution_count": 27,
     "metadata": {},
     "output_type": "execute_result"
    },
    {
     "name": "stdout",
     "output_type": "stream",
     "text": [
      "time: 0 ns (started: 2021-09-06 22:38:55 -06:00)\n"
     ]
    }
   ],
   "source": [
    "neg_words_log_likelihoods[:10]"
   ]
  },
  {
   "cell_type": "code",
   "execution_count": 28,
   "id": "c6f59308",
   "metadata": {},
   "outputs": [
    {
     "data": {
      "image/png": "[encoded data removed]",
      "text/plain": [
       "<Figure size 1080x720 with 1 Axes>"
      ]
     },
     "metadata": {
      "needs_background": "light"
     },
     "output_type": "display_data"
    },
    {
     "name": "stdout",
     "output_type": "stream",
     "text": [
      "time: 547 ms (started: 2021-09-06 22:38:55 -06:00)\n"
     ]
    }
   ],
   "source": [
    "# Create a dataframe to store log_likelihoods for positive and negative classes for all tokens\n",
    "class_logprob_df = pd.concat([pd.DataFrame(pos_words_log_likelihoods, columns=['token', 'pos']).set_index('token'), \n",
    "                              pd.DataFrame(neg_words_log_likelihoods, columns=['token', 'neg']).set_index('token')], \n",
    "                             axis=1, join='inner')\n",
    "\n",
    "plt.figure(figsize=(15,10))\n",
    "\n",
    "num_tokens = 50\n",
    "ax = sns.scatterplot(data=class_logprob_df.iloc[:num_tokens], x='pos', y='neg')\n",
    "ax.set_xlabel('Log likelihood of tokens for positive class', fontsize='large')\n",
    "ax.set_ylabel('Log likelihood of tokens for negative class', fontsize='large')\n",
    "\n",
    "def find_extremes(series, extreme_type='max', decimal_places=1):\n",
    "    if extreme_type == 'max':\n",
    "        return float(format(max(series), '.'+str(decimal_places)+'f'))\n",
    "    elif extreme_type == 'min':\n",
    "        return float(format(min(series), '.'+str(decimal_places)+'f'))\n",
    "    \n",
    "plt.xticks(np.arange(-7.0, \n",
    "                     find_extremes(class_logprob_df[:num_tokens].pos), 0.5))\n",
    "plt.yticks(np.arange(find_extremes(class_logprob_df[:num_tokens].neg, 'min'), \n",
    "                     find_extremes(class_logprob_df[:num_tokens].neg), 0.5))\n",
    "lims = [\n",
    "    max(min(ax.get_xlim()), min(ax.get_ylim())),  \n",
    "    max(max(ax.get_xlim()), max(ax.get_ylim()))\n",
    "]\n",
    "\n",
    "# now plot both limits against each other\n",
    "ax.plot(lims, lims)\n",
    "\n",
    "for i in range(num_tokens):\n",
    "    plt.text(\n",
    "        x=class_logprob_df.pos.iloc[i],\n",
    "        y=class_logprob_df.neg.iloc[i],\n",
    "        s=class_logprob_df.iloc[i].name,\n",
    "        fontsize='large'\n",
    "    )"
   ]
  },
  {
   "cell_type": "markdown",
   "id": "a0e6bbeb",
   "metadata": {},
   "source": [
    "In the above scatter plot, we see 50 tokens with the highest likelihood of being observed in a positive class. We use both likelihood values, one likelihood value of being observed in positive class and another of being observed in negative class.\n",
    "\n",
    "The blue line represents tokens with equal likelihoods of being observed in both positive and negative classes. As we can see from the scatter plot, tokens like ```love``` have higher log-likelihood values for the positive class than for the negative class. Likewise, tokens like ```don't``` have higher log-likelihood values for negative class than for positive class."
   ]
  },
  {
   "cell_type": "code",
   "execution_count": 29,
   "id": "6aa89472",
   "metadata": {},
   "outputs": [
    {
     "data": {
      "image/png": "[encoded data removed]",
      "text/plain": [
       "<Figure size 1080x720 with 1 Axes>"
      ]
     },
     "metadata": {
      "needs_background": "light"
     },
     "output_type": "display_data"
    },
    {
     "name": "stdout",
     "output_type": "stream",
     "text": [
      "time: 344 ms (started: 2021-09-06 22:38:56 -06:00)\n"
     ]
    }
   ],
   "source": [
    "# Create a dataframe to store log_likelihoods for positive and negative classes for all tokens\n",
    "class_logprob_df = pd.concat([pd.DataFrame(neg_words_log_likelihoods, columns=['token', 'neg']).set_index('token'), \n",
    "                              pd.DataFrame(pos_words_log_likelihoods, columns=['token', 'pos']).set_index('token')], \n",
    "                             axis=1, join='inner')\n",
    "\n",
    "plt.figure(figsize=(15,10))\n",
    "\n",
    "num_tokens = 50\n",
    "ax = sns.scatterplot(data=class_logprob_df.iloc[:num_tokens], x='pos', y='neg')\n",
    "ax.set_xlabel('Log likelihood of tokens for positive class', fontsize='large')\n",
    "ax.set_ylabel('Log likelihood of tokens for negative class', fontsize='large')\n",
    "\n",
    "def find_extremes(series, extreme_type='max', decimal_places=1):\n",
    "    if extreme_type == 'max':\n",
    "        return float(format(max(series), '.'+str(decimal_places)+'f'))\n",
    "    elif extreme_type == 'min':\n",
    "        return float(format(min(series), '.'+str(decimal_places)+'f'))\n",
    "    \n",
    "#find_extremes(class_logprob_df[:num_tokens].pos, 'min')    \n",
    "plt.xticks(np.arange(-12.5, \n",
    "                     find_extremes(class_logprob_df[:num_tokens].pos), 0.5))\n",
    "plt.yticks(np.arange(-7.0, \n",
    "                     find_extremes(class_logprob_df[:num_tokens].neg), 0.5))\n",
    "lims = [\n",
    "    max(min(ax.get_xlim()), min(ax.get_ylim())),  \n",
    "    max(max(ax.get_xlim()), max(ax.get_ylim()))\n",
    "]\n",
    "\n",
    "# now plot both limits against eachother\n",
    "ax.plot(lims, lims)\n",
    "\n",
    "for i in range(num_tokens):\n",
    "    plt.text(\n",
    "        x=class_logprob_df.pos.iloc[i],\n",
    "        y=class_logprob_df.neg.iloc[i],\n",
    "        s=class_logprob_df.iloc[i].name,\n",
    "        fontsize='large'\n",
    "    )"
   ]
  },
  {
   "cell_type": "markdown",
   "id": "09e9a4fe",
   "metadata": {},
   "source": [
    "In the above scatter plot, we see 50 tokens that are highly likely to be observed in the negative class. As we can see from the plot, tokens like racist and politics appear on the left-hand side of the blue line, which means that their log-likelihoods for the negative class are higher than for the positive class. One way to improve the Naive Bayes model is to filter noun tokens, such as tampa and america. \n",
    "\n",
    "We have seen two categories of tokens:\n",
    "\n",
    "```\n",
    "p(token_category1|positive) > p(token_category1|negative) \n",
    "p(token_category1|negative) > p(token_category1|positive) \n",
    "```\n",
    "\n",
    "After visualizing a few of the tokens with high log-likelihoods, we can conclude that the Naive Bayes identified tokens that should appear more often in positive and negative tweets. One thing to note here is that Naive Bayes maximizes the log-likelihood of a token for the class in which the token appears more frequently. This maximization is useful for tokens that carry sentiment value. However, this will not be useful for tokens that do not carry sentiment value but are assigned a higher likelihood value based on the frequency of that token in a particular class. For example, tampa is a city. It might carry positive or negative perceptions among a few individuals but characterizing it as negative based on the number of times it is observed in negative tweets is a bad approach. First, it carries no sentiment value and should be labelled as neutral. Second, this will result in poor predictions on unseen tweets. Thus, although the Naive Bayes classifier has a good performance, its likelihood estimates should be considered helpful with a grain of salt.\n",
    "\n",
    "Now let us see how our classifier is performing on unseen tweets."
   ]
  },
  {
   "cell_type": "code",
   "execution_count": 30,
   "id": "1220e1c8",
   "metadata": {},
   "outputs": [
    {
     "name": "stdout",
     "output_type": "stream",
     "text": [
      "time: 0 ns (started: 2021-09-06 22:38:56 -06:00)\n"
     ]
    }
   ],
   "source": [
    "from sklearn.metrics import classification_report, confusion_matrix"
   ]
  },
  {
   "cell_type": "code",
   "execution_count": 31,
   "id": "10c84879",
   "metadata": {},
   "outputs": [
    {
     "data": {
      "text/plain": [
       "<AxesSubplot:>"
      ]
     },
     "execution_count": 31,
     "metadata": {},
     "output_type": "execute_result"
    },
    {
     "data": {
      "image/png": "[encoded data removed]",
      "text/plain": [
       "<Figure size 432x288 with 2 Axes>"
      ]
     },
     "metadata": {
      "needs_background": "light"
     },
     "output_type": "display_data"
    },
    {
     "name": "stdout",
     "output_type": "stream",
     "text": [
      "time: 1.33 s (started: 2021-09-06 22:38:56 -06:00)\n"
     ]
    }
   ],
   "source": [
    "# Predicting the Test set results\n",
    "predict_dev_y = NB_classifier.predict(dev_X)\n",
    "cm = confusion_matrix(dev_y, predict_dev_y)\n",
    "sns.heatmap(cm, annot=True)"
   ]
  },
  {
   "cell_type": "code",
   "execution_count": 32,
   "id": "44953e3f",
   "metadata": {
    "scrolled": true
   },
   "outputs": [
    {
     "name": "stdout",
     "output_type": "stream",
     "text": [
      "              precision    recall  f1-score   support\n",
      "\n",
      "           0       0.99      0.94      0.96      5945\n",
      "           1       0.51      0.82      0.63       448\n",
      "\n",
      "    accuracy                           0.93      6393\n",
      "   macro avg       0.75      0.88      0.80      6393\n",
      "weighted avg       0.95      0.93      0.94      6393\n",
      "\n",
      "time: 32 ms (started: 2021-09-06 22:38:58 -06:00)\n"
     ]
    }
   ],
   "source": [
    "print(classification_report(dev_y, predict_dev_y))"
   ]
  },
  {
   "cell_type": "code",
   "execution_count": 33,
   "id": "a0ecfacb",
   "metadata": {},
   "outputs": [
    {
     "data": {
      "text/plain": [
       "\"\\nprint('minimum likelihood value for a token in positive class',np.log(0.1/(sum_pos+0.1*NB_classifier.feature_count_.shape[1])), \\n      'minimum likelihood value for a token in negative class',np.log(0.1/(sum_neg+0.1*NB_classifier.feature_count_.shape[1])))\\n      \\nimport math\\npow(math.e, -14.45511665659614)\\n\""
      ]
     },
     "execution_count": 33,
     "metadata": {},
     "output_type": "execute_result"
    },
    {
     "name": "stdout",
     "output_type": "stream",
     "text": [
      "time: 0 ns (started: 2021-09-06 22:38:58 -06:00)\n"
     ]
    }
   ],
   "source": [
    "\"\"\"\n",
    "print('minimum likelihood value for a token in positive class',np.log(0.1/(sum_pos+0.1*NB_classifier.feature_count_.shape[1])), \n",
    "      'minimum likelihood value for a token in negative class',np.log(0.1/(sum_neg+0.1*NB_classifier.feature_count_.shape[1])))\n",
    "      \n",
    "import math\n",
    "pow(math.e, -14.45511665659614)\n",
    "\"\"\""
   ]
  },
  {
   "cell_type": "markdown",
   "id": "f9e3ad54",
   "metadata": {},
   "source": [
    "Precision for classifying positive tweets is very high, whereas precision for negative tweets is low. Naive Bayes classifier is incorrectly predicting half of its negative tweets. However, it is accurately predicting 99 percent of positive tweets. \n",
    "\n",
    "Precision is low for negative tweets, but recall is high. Among 448 negative tweets of our validation dataset, it is identifying 82 percent of these tweets as negative. Finally, F1 scores for positive tweets is higher than for negative tweets. This suggests that our classifier has a better performance at predicting positive tweets than negative tweets.\n",
    "\n",
    "If we revisit our handling of the imbalanced training set, we will notice that negative tweets are duplicated. The actual data, and hence the variety in tokens, is limited to 2242 tweets in case of negative tweets as compared to 29720 tweets in case of positive tweets. So, there is a higher chance of observing a token in validation set that the Naive Bayes classifier has already seen in positive class. The minimum likelihoods of observing a token in a positive class and negative class are given below.\n",
    "\n",
    "$$\n",
    "p(token|class=positive)_{min} = \\frac{0 + \\alpha}{Total\\;count\\;of\\;43654\\;tokens\\;in\\;positive\\;tweets + \\alpha*43654}\n",
    "$$\n",
    "\n",
    "$$\n",
    "p(token|class=negative)_{min} = \\frac{0 + \\alpha}{Total\\;count\\;of\\;43654\\;tokens\\;in\\;negative\\;tweets + \\alpha*43654}\n",
    "$$\n",
    "\n",
    "Log likelihoods for the above likelihoods are:\n",
    "\n",
    "$$\n",
    "log(p(token|class=positive)_{min}) = -14.46\n",
    "log(p(token|class=negative)_{min}) = -14.51\n",
    "$$\n",
    "\n",
    "The above log likelihoods are similar even though we have fewer negative tweets because we have balanced the training dataset. However, Naive Bayes will assign a higher likelihood to an unseen token for positive class than for negative class. Besides, if Naive Bayes identifies a token in an unseen tweet that has occurred in positive tweets and not in negative tweets, then the likelihood of this token being observed in a positive tweet will be higher than its likelihood value for being observed in a negative tweet. Similarly, if a token has occurred in negative tweets and not in positive tweets, then the likelihood of this token being observed in the negative class will be higher than its value for the positive class. \n",
    "\n",
    "With more unique positive tweets in our training set, we have a variety of unique tokens, and if any of these tokens, unique to the positive class, appears in an unseen tweet, the Naive Bayes classifier will assign a higher probability for the positive class than for the negative class. If we have more number of negative tweets, Naive Bayes will be able to observe more variety of unique tokens in negative class. This will increase likelihood of observing tokens in negative class. Also, tokens with low sentimental value, such as Tampa, would likely have similar frequencies in both positive and negative classes, which will result in similar likelihoods of such tokens. Hence, we might have better precision and recall values for negative class.\n",
    "\n",
    "Now, let us do some error analysis and find out positive tweets that are incorrectly labeled. "
   ]
  },
  {
   "cell_type": "code",
   "execution_count": 34,
   "id": "df3a078f",
   "metadata": {},
   "outputs": [
    {
     "data": {
      "text/html": [
       "<div>\n",
       "<style scoped>\n",
       "    .dataframe tbody tr th:only-of-type {\n",
       "        vertical-align: middle;\n",
       "    }\n",
       "\n",
       "    .dataframe tbody tr th {\n",
       "        vertical-align: top;\n",
       "    }\n",
       "\n",
       "    .dataframe thead th {\n",
       "        text-align: right;\n",
       "    }\n",
       "</style>\n",
       "<table border=\"1\" class=\"dataframe\">\n",
       "  <thead>\n",
       "    <tr style=\"text-align: right;\">\n",
       "      <th></th>\n",
       "      <th>label</th>\n",
       "      <th>pred_label</th>\n",
       "    </tr>\n",
       "  </thead>\n",
       "  <tbody>\n",
       "    <tr>\n",
       "      <th>23246</th>\n",
       "      <td>0</td>\n",
       "      <td>0</td>\n",
       "    </tr>\n",
       "    <tr>\n",
       "      <th>19401</th>\n",
       "      <td>1</td>\n",
       "      <td>1</td>\n",
       "    </tr>\n",
       "    <tr>\n",
       "      <th>20242</th>\n",
       "      <td>0</td>\n",
       "      <td>0</td>\n",
       "    </tr>\n",
       "    <tr>\n",
       "      <th>14647</th>\n",
       "      <td>0</td>\n",
       "      <td>0</td>\n",
       "    </tr>\n",
       "    <tr>\n",
       "      <th>13605</th>\n",
       "      <td>0</td>\n",
       "      <td>1</td>\n",
       "    </tr>\n",
       "  </tbody>\n",
       "</table>\n",
       "</div>"
      ],
      "text/plain": [
       "       label  pred_label\n",
       "23246      0           0\n",
       "19401      1           1\n",
       "20242      0           0\n",
       "14647      0           0\n",
       "13605      0           1"
      ]
     },
     "execution_count": 34,
     "metadata": {},
     "output_type": "execute_result"
    },
    {
     "name": "stdout",
     "output_type": "stream",
     "text": [
      "time: 0 ns (started: 2021-09-06 22:38:58 -06:00)\n"
     ]
    }
   ],
   "source": [
    "output_df = pd.concat([dev_y, pd.Series(predict_dev_y, index=dev_y.index)], join='inner', axis=1)\n",
    "output_df.rename(columns={0: 'pred_label'}, inplace=True)\n",
    "output_df.head()"
   ]
  },
  {
   "cell_type": "code",
   "execution_count": 35,
   "id": "1e694fd5",
   "metadata": {},
   "outputs": [
    {
     "data": {
      "text/html": [
       "<div>\n",
       "<style scoped>\n",
       "    .dataframe tbody tr th:only-of-type {\n",
       "        vertical-align: middle;\n",
       "    }\n",
       "\n",
       "    .dataframe tbody tr th {\n",
       "        vertical-align: top;\n",
       "    }\n",
       "\n",
       "    .dataframe thead th {\n",
       "        text-align: right;\n",
       "    }\n",
       "</style>\n",
       "<table border=\"1\" class=\"dataframe\">\n",
       "  <thead>\n",
       "    <tr style=\"text-align: right;\">\n",
       "      <th></th>\n",
       "      <th>0</th>\n",
       "      <th>1</th>\n",
       "      <th>2</th>\n",
       "      <th>3</th>\n",
       "      <th>4</th>\n",
       "      <th>5</th>\n",
       "      <th>6</th>\n",
       "      <th>7</th>\n",
       "      <th>8</th>\n",
       "      <th>9</th>\n",
       "      <th>...</th>\n",
       "      <th>43644</th>\n",
       "      <th>43645</th>\n",
       "      <th>43646</th>\n",
       "      <th>43647</th>\n",
       "      <th>43648</th>\n",
       "      <th>43649</th>\n",
       "      <th>43650</th>\n",
       "      <th>43651</th>\n",
       "      <th>43652</th>\n",
       "      <th>43653</th>\n",
       "    </tr>\n",
       "  </thead>\n",
       "  <tbody>\n",
       "    <tr>\n",
       "      <th>23246</th>\n",
       "      <td>0</td>\n",
       "      <td>0</td>\n",
       "      <td>0</td>\n",
       "      <td>0</td>\n",
       "      <td>0</td>\n",
       "      <td>0</td>\n",
       "      <td>0</td>\n",
       "      <td>0</td>\n",
       "      <td>0</td>\n",
       "      <td>0</td>\n",
       "      <td>...</td>\n",
       "      <td>0</td>\n",
       "      <td>0</td>\n",
       "      <td>0</td>\n",
       "      <td>0</td>\n",
       "      <td>0</td>\n",
       "      <td>0</td>\n",
       "      <td>0</td>\n",
       "      <td>0</td>\n",
       "      <td>0</td>\n",
       "      <td>0</td>\n",
       "    </tr>\n",
       "    <tr>\n",
       "      <th>19401</th>\n",
       "      <td>0</td>\n",
       "      <td>0</td>\n",
       "      <td>0</td>\n",
       "      <td>0</td>\n",
       "      <td>0</td>\n",
       "      <td>0</td>\n",
       "      <td>0</td>\n",
       "      <td>0</td>\n",
       "      <td>0</td>\n",
       "      <td>0</td>\n",
       "      <td>...</td>\n",
       "      <td>0</td>\n",
       "      <td>0</td>\n",
       "      <td>0</td>\n",
       "      <td>0</td>\n",
       "      <td>0</td>\n",
       "      <td>0</td>\n",
       "      <td>0</td>\n",
       "      <td>0</td>\n",
       "      <td>0</td>\n",
       "      <td>0</td>\n",
       "    </tr>\n",
       "    <tr>\n",
       "      <th>20242</th>\n",
       "      <td>0</td>\n",
       "      <td>0</td>\n",
       "      <td>0</td>\n",
       "      <td>0</td>\n",
       "      <td>0</td>\n",
       "      <td>0</td>\n",
       "      <td>0</td>\n",
       "      <td>0</td>\n",
       "      <td>0</td>\n",
       "      <td>0</td>\n",
       "      <td>...</td>\n",
       "      <td>0</td>\n",
       "      <td>0</td>\n",
       "      <td>0</td>\n",
       "      <td>0</td>\n",
       "      <td>0</td>\n",
       "      <td>0</td>\n",
       "      <td>0</td>\n",
       "      <td>0</td>\n",
       "      <td>0</td>\n",
       "      <td>0</td>\n",
       "    </tr>\n",
       "    <tr>\n",
       "      <th>14647</th>\n",
       "      <td>0</td>\n",
       "      <td>0</td>\n",
       "      <td>0</td>\n",
       "      <td>0</td>\n",
       "      <td>0</td>\n",
       "      <td>0</td>\n",
       "      <td>0</td>\n",
       "      <td>0</td>\n",
       "      <td>0</td>\n",
       "      <td>0</td>\n",
       "      <td>...</td>\n",
       "      <td>0</td>\n",
       "      <td>0</td>\n",
       "      <td>0</td>\n",
       "      <td>0</td>\n",
       "      <td>0</td>\n",
       "      <td>0</td>\n",
       "      <td>0</td>\n",
       "      <td>0</td>\n",
       "      <td>0</td>\n",
       "      <td>0</td>\n",
       "    </tr>\n",
       "    <tr>\n",
       "      <th>13605</th>\n",
       "      <td>0</td>\n",
       "      <td>0</td>\n",
       "      <td>0</td>\n",
       "      <td>0</td>\n",
       "      <td>0</td>\n",
       "      <td>0</td>\n",
       "      <td>0</td>\n",
       "      <td>0</td>\n",
       "      <td>0</td>\n",
       "      <td>0</td>\n",
       "      <td>...</td>\n",
       "      <td>0</td>\n",
       "      <td>0</td>\n",
       "      <td>0</td>\n",
       "      <td>0</td>\n",
       "      <td>0</td>\n",
       "      <td>0</td>\n",
       "      <td>0</td>\n",
       "      <td>0</td>\n",
       "      <td>0</td>\n",
       "      <td>0</td>\n",
       "    </tr>\n",
       "  </tbody>\n",
       "</table>\n",
       "<p>5 rows × 43654 columns</p>\n",
       "</div>"
      ],
      "text/plain": [
       "       0      1      2      3      4      5      6      7      8      9      \\\n",
       "23246      0      0      0      0      0      0      0      0      0      0   \n",
       "19401      0      0      0      0      0      0      0      0      0      0   \n",
       "20242      0      0      0      0      0      0      0      0      0      0   \n",
       "14647      0      0      0      0      0      0      0      0      0      0   \n",
       "13605      0      0      0      0      0      0      0      0      0      0   \n",
       "\n",
       "       ...  43644  43645  43646  43647  43648  43649  43650  43651  43652  \\\n",
       "23246  ...      0      0      0      0      0      0      0      0      0   \n",
       "19401  ...      0      0      0      0      0      0      0      0      0   \n",
       "20242  ...      0      0      0      0      0      0      0      0      0   \n",
       "14647  ...      0      0      0      0      0      0      0      0      0   \n",
       "13605  ...      0      0      0      0      0      0      0      0      0   \n",
       "\n",
       "       43653  \n",
       "23246      0  \n",
       "19401      0  \n",
       "20242      0  \n",
       "14647      0  \n",
       "13605      0  \n",
       "\n",
       "[5 rows x 43654 columns]"
      ]
     },
     "execution_count": 35,
     "metadata": {},
     "output_type": "execute_result"
    },
    {
     "name": "stdout",
     "output_type": "stream",
     "text": [
      "time: 31 ms (started: 2021-09-06 22:38:58 -06:00)\n"
     ]
    }
   ],
   "source": [
    "dev_X.head()"
   ]
  },
  {
   "cell_type": "code",
   "execution_count": 36,
   "id": "130403df",
   "metadata": {},
   "outputs": [
    {
     "name": "stdout",
     "output_type": "stream",
     "text": [
      "time: 0 ns (started: 2021-09-06 22:38:58 -06:00)\n"
     ]
    }
   ],
   "source": [
    "false_df = output_df[output_df['label']!=output_df['pred_label']]\n",
    "# Create a dataframe for storing false positives, indices for which Naive Bayes classifier incorrectly predicted positive \n",
    "# sentiment for a negative tweet\n",
    "false_pos_df = false_df[false_df['pred_label']==0]\n",
    "\n",
    "# Create a dataframe for storing false negatives, indices for which Naive Bayes classifier incorrectly predicted negative \n",
    "# sentiment for a positive tweet\n",
    "false_neg_df = false_df[false_df['pred_label']==1]"
   ]
  },
  {
   "cell_type": "code",
   "execution_count": 37,
   "id": "efa825f9",
   "metadata": {},
   "outputs": [
    {
     "data": {
      "text/html": [
       "<div>\n",
       "<style scoped>\n",
       "    .dataframe tbody tr th:only-of-type {\n",
       "        vertical-align: middle;\n",
       "    }\n",
       "\n",
       "    .dataframe tbody tr th {\n",
       "        vertical-align: top;\n",
       "    }\n",
       "\n",
       "    .dataframe thead th {\n",
       "        text-align: right;\n",
       "    }\n",
       "</style>\n",
       "<table border=\"1\" class=\"dataframe\">\n",
       "  <thead>\n",
       "    <tr style=\"text-align: right;\">\n",
       "      <th></th>\n",
       "      <th>label</th>\n",
       "      <th>pred_label</th>\n",
       "    </tr>\n",
       "  </thead>\n",
       "  <tbody>\n",
       "    <tr>\n",
       "      <th>23279</th>\n",
       "      <td>1</td>\n",
       "      <td>0</td>\n",
       "    </tr>\n",
       "    <tr>\n",
       "      <th>12230</th>\n",
       "      <td>1</td>\n",
       "      <td>0</td>\n",
       "    </tr>\n",
       "    <tr>\n",
       "      <th>20419</th>\n",
       "      <td>1</td>\n",
       "      <td>0</td>\n",
       "    </tr>\n",
       "    <tr>\n",
       "      <th>4230</th>\n",
       "      <td>1</td>\n",
       "      <td>0</td>\n",
       "    </tr>\n",
       "    <tr>\n",
       "      <th>11271</th>\n",
       "      <td>1</td>\n",
       "      <td>0</td>\n",
       "    </tr>\n",
       "  </tbody>\n",
       "</table>\n",
       "</div>"
      ],
      "text/plain": [
       "       label  pred_label\n",
       "23279      1           0\n",
       "12230      1           0\n",
       "20419      1           0\n",
       "4230       1           0\n",
       "11271      1           0"
      ]
     },
     "execution_count": 37,
     "metadata": {},
     "output_type": "execute_result"
    },
    {
     "name": "stdout",
     "output_type": "stream",
     "text": [
      "time: 15 ms (started: 2021-09-06 22:38:58 -06:00)\n"
     ]
    }
   ],
   "source": [
    "false_pos_df.head()"
   ]
  },
  {
   "cell_type": "code",
   "execution_count": 38,
   "id": "8b0e131f",
   "metadata": {},
   "outputs": [
    {
     "data": {
      "text/html": [
       "<div>\n",
       "<style scoped>\n",
       "    .dataframe tbody tr th:only-of-type {\n",
       "        vertical-align: middle;\n",
       "    }\n",
       "\n",
       "    .dataframe tbody tr th {\n",
       "        vertical-align: top;\n",
       "    }\n",
       "\n",
       "    .dataframe thead th {\n",
       "        text-align: right;\n",
       "    }\n",
       "</style>\n",
       "<table border=\"1\" class=\"dataframe\">\n",
       "  <thead>\n",
       "    <tr style=\"text-align: right;\">\n",
       "      <th></th>\n",
       "      <th>label</th>\n",
       "      <th>pred_label</th>\n",
       "    </tr>\n",
       "  </thead>\n",
       "  <tbody>\n",
       "    <tr>\n",
       "      <th>13605</th>\n",
       "      <td>0</td>\n",
       "      <td>1</td>\n",
       "    </tr>\n",
       "    <tr>\n",
       "      <th>26339</th>\n",
       "      <td>0</td>\n",
       "      <td>1</td>\n",
       "    </tr>\n",
       "    <tr>\n",
       "      <th>10893</th>\n",
       "      <td>0</td>\n",
       "      <td>1</td>\n",
       "    </tr>\n",
       "    <tr>\n",
       "      <th>19320</th>\n",
       "      <td>0</td>\n",
       "      <td>1</td>\n",
       "    </tr>\n",
       "    <tr>\n",
       "      <th>25512</th>\n",
       "      <td>0</td>\n",
       "      <td>1</td>\n",
       "    </tr>\n",
       "  </tbody>\n",
       "</table>\n",
       "</div>"
      ],
      "text/plain": [
       "       label  pred_label\n",
       "13605      0           1\n",
       "26339      0           1\n",
       "10893      0           1\n",
       "19320      0           1\n",
       "25512      0           1"
      ]
     },
     "execution_count": 38,
     "metadata": {},
     "output_type": "execute_result"
    },
    {
     "name": "stdout",
     "output_type": "stream",
     "text": [
      "time: 0 ns (started: 2021-09-06 22:38:58 -06:00)\n"
     ]
    }
   ],
   "source": [
    "false_neg_df.head()"
   ]
  },
  {
   "cell_type": "code",
   "execution_count": 39,
   "id": "0ee7673f",
   "metadata": {
    "scrolled": true
   },
   "outputs": [
    {
     "data": {
      "text/plain": [
       "'point one finger millions pointed right back jewishsupremacist'"
      ]
     },
     "execution_count": 39,
     "metadata": {},
     "output_type": "execute_result"
    },
    {
     "name": "stdout",
     "output_type": "stream",
     "text": [
      "time: 32 ms (started: 2021-09-06 22:38:58 -06:00)\n"
     ]
    }
   ],
   "source": [
    "# Tweet that is incorrectly predicted as having positive sentiment\n",
    "pd.concat([tweets_df, false_pos_df], join='inner', axis=1)['clean_tweet'].iloc[2]"
   ]
  },
  {
   "cell_type": "code",
   "execution_count": 40,
   "id": "b4d85e17",
   "metadata": {},
   "outputs": [
    {
     "name": "stdout",
     "output_type": "stream",
     "text": [
      "['point', 'one', 'finger', 'millions', 'pointed', 'right', 'back', 'jewishsupremacist']\n",
      "point -8.427907229518592    -7.7854899656512115\n",
      "one -5.949689567881388    -6.1058477945438625\n",
      "finger -8.938732853284582    -12.380609815785801\n",
      "millions -10.142705657610518    -8.946622611300654\n",
      "pointed -11.646783054386793    -12.380609815785801\n",
      "right -6.726802128558668    -6.955659798304398\n",
      "back -6.549970064049485    -6.551664198175594\n",
      "jewishsupremacist -12.339930234946738    -12.380609815785801\n",
      "\n",
      " 1.894432823244203e-71    3.2575132033247012e-74\n",
      "time: 203 ms (started: 2021-09-06 22:38:58 -06:00)\n"
     ]
    }
   ],
   "source": [
    "sample_pos_tweet = pd.concat([tweets_df, false_pos_df], join='inner', axis=1)['clean_tweet'].iloc[2].split()\n",
    "print(sample_pos_tweet)\n",
    "\n",
    "pos_prob = 1\n",
    "neg_prob = 1\n",
    "for word in sample_pos_tweet:\n",
    "    try:\n",
    "        print(word, dict(pos_words_log_likelihoods)[word], '  ', dict(neg_words_log_likelihoods)[word])\n",
    "        pos_prob = pos_prob*pow(10, dict(pos_words_log_likelihoods)[word])\n",
    "        neg_prob = neg_prob*pow(10, dict(neg_words_log_likelihoods)[word])\n",
    "    except:\n",
    "        continue\n",
    "print('\\n', pos_prob, '  ',neg_prob)"
   ]
  },
  {
   "cell_type": "code",
   "execution_count": 41,
   "id": "633d4586",
   "metadata": {},
   "outputs": [
    {
     "data": {
      "text/plain": [
       "array([[-0.06109673, -2.82568976]])"
      ]
     },
     "execution_count": 41,
     "metadata": {},
     "output_type": "execute_result"
    },
    {
     "name": "stdout",
     "output_type": "stream",
     "text": [
      "time: 16 ms (started: 2021-09-06 22:38:58 -06:00)\n"
     ]
    }
   ],
   "source": [
    "NB_classifier.predict_log_proba(countvectorizer_obj.transform([' '.join(sample_pos_tweet)]))"
   ]
  },
  {
   "cell_type": "markdown",
   "id": "e998c36f",
   "metadata": {},
   "source": [
    "Why would the Naive Bayes algorithm assign the above tweet a positive sentiment? The product of the posterior probabilities for each word is higher for the positive class than the negative class. So, this means that many of the words in the above tweet appear more often in positive tweets than in negative tweets. Another interpretation could be that the tweets which have words similar to this tweet are positive tweets. Similar interpretations follow for the below tweet, which is incorrectly predicted as a tweet with negative sentiment."
   ]
  },
  {
   "cell_type": "code",
   "execution_count": 42,
   "id": "beb1b9fa",
   "metadata": {
    "scrolled": false
   },
   "outputs": [
    {
     "name": "stdout",
     "output_type": "stream",
     "text": [
      "jealous right chatiado\n",
      "\n",
      " 1 1\n",
      "time: 171 ms (started: 2021-09-06 22:38:58 -06:00)\n"
     ]
    }
   ],
   "source": [
    "# Tweet that is incorrectly predicted as having negative sentiment\n",
    "sample_neg_tweet = pd.concat([tweets_df, false_neg_df], join='inner', axis=1)['clean_tweet'].iloc[0]\n",
    "print(sample_neg_tweet)\n",
    "\n",
    "pos_prob = 1\n",
    "neg_prob = 1\n",
    "for word in sample_neg_tweet:\n",
    "    try:\n",
    "        print(word, dict(pos_words_log_likelihoods)[word], dict(neg_words_log_likelihoods)[word])\n",
    "        pos_prob = pos_prob*pow(10, dict(pos_words_log_likelihoods)[word])\n",
    "        neg_prob = neg_prob*pow(10, dict(neg_words_log_likelihoods)[word])\n",
    "    except:\n",
    "        continue\n",
    "print('\\n', pos_prob, neg_prob)"
   ]
  },
  {
   "cell_type": "markdown",
   "id": "15cb9384",
   "metadata": {},
   "source": [
    "It will be incomprehensive to conclude this notebook without discussing the multinomial distribution.\n",
    "\n",
    "In multinomial distribution, we have N experiments and k outcomes. A multinomially distributed variable is a discrete random vector, X, which is defined as:\n",
    "\n",
    "$X = [X_1 X_2 ... X_i ... X_k]$\n",
    "\n",
    "where $X_i$ represents number of times $i^{th}$ outcome occurred in n experiments.\n",
    "\n",
    "We have 47,550 tweets in our training set in our Twitter data set, with half of the tweets as positive tweets. This training set of 47,550 tweets and 43,654 tokens is assumed to be generated by multinomial distribution with $\\theta_y$ as its parameter. Varying this parameter will generate different multinomial distributions. \n",
    "\n",
    "$\\theta_{y} = [\\theta_1 \\theta_2 ... \\theta_i ... \\theta_{43654}]$\n",
    "\n",
    "where $\\theta_i$ is $p(token_i|y)$. To find an estimate of $\\theta_{y}$, maximum likelihood estimation is used. \n",
    "\n",
    "Likelihood function relates a parameter/s of distribution to the probability of observing a given sample. Maximum likelihood estimation results in an estimate of the parameter that maximizes the likelihood of observing sample data. This estimation results in a likelihood estimate of any token $x_i$ as:\n",
    "\n",
    "$$\n",
    "p(x_i|class=positive) = \\frac{Count\\;of\\;x_i\\;in\\;positive\\;tweets + \\alpha}{Total\\;count\\;of\\;all\\;tokens\\;in\\;positive\\;tweets + \\alpha*number\\;of\\;tokens}\n",
    "$$"
   ]
  },
  {
   "cell_type": "markdown",
   "id": "472fedcb",
   "metadata": {},
   "source": [
    "### Conclusion\n",
    "\n",
    "We have implemented the Naive Bayes algorithm for classifying tweets' sentiments into positive or negative in this notebook. We found top-ranked features within each class, that is within positive and negative sentiments. We achieved an accuracy of 91%. However, F-score, recall, and precision values for the negative class are very low. This is because we have a very small amount of data for the negative class (tweets that are labeled as negative). The features/tokens in negative tweets, which are important for classifying a tweet into negative class, are competing with their likelihoods in positive tweets just because there are more positive tweets. \n",
    "\n",
    "A few possible solutions to address low performance of classifier for negative class are:\n",
    "- get more number of unique negative tweets,\n",
    "- filter words that have low sentimental value,\n",
    "- assign equal likelihood values to words with very low or zero sentimental value for both positive and negative classes.\n",
    "\n",
    "Next, we will fit kNN classifier, logistic regression, then SVM, and finally XGBoost and see out of the three which one performs best. In each case, we will find which features are weighted more in positive and negative classes."
   ]
  }
 ],
 "metadata": {
  "kernelspec": {
   "display_name": "Python 3 (ipykernel)",
   "language": "python",
   "name": "python3"
  },
  "language_info": {
   "codemirror_mode": {
    "name": "ipython",
    "version": 3
   },
   "file_extension": ".py",
   "mimetype": "text/x-python",
   "name": "python",
   "nbconvert_exporter": "python",
   "pygments_lexer": "ipython3",
   "version": "3.7.11"
  }
 },
 "nbformat": 4,
 "nbformat_minor": 5
}

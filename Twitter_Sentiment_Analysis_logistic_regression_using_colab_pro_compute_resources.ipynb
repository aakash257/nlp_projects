{
  "nbformat": 4,
  "nbformat_minor": 0,
  "metadata": {
    "colab": {
      "name": "Twitter_Sentiment_Analysis_logistic_regression_using_colab_pro_compute_resources.ipynb",
      "provenance": [],
      "collapsed_sections": []
    },
    "kernelspec": {
      "name": "python3",
      "display_name": "Python 3"
    },
    "language_info": {
      "name": "python"
    }
  },
  "cells": [
    {
      "cell_type": "code",
      "metadata": {
        "colab": {
          "base_uri": "https://localhost:8080/"
        },
        "id": "VHYR3Ls0AUMO",
        "outputId": "b1c8577d-a556-4ac7-e1d0-d502e78c05d2"
      },
      "source": [
        "!pip install -U imblearn"
      ],
      "execution_count": 32,
      "outputs": [
        {
          "output_type": "stream",
          "name": "stdout",
          "text": [
            "Requirement already satisfied: imblearn in /usr/local/lib/python3.7/dist-packages (0.0)\n",
            "Requirement already satisfied: imbalanced-learn in /usr/local/lib/python3.7/dist-packages (from imblearn) (0.8.0)\n",
            "Requirement already satisfied: scikit-learn>=0.24 in /usr/local/lib/python3.7/dist-packages (from imbalanced-learn->imblearn) (0.24.2)\n",
            "Requirement already satisfied: numpy>=1.13.3 in /usr/local/lib/python3.7/dist-packages (from imbalanced-learn->imblearn) (1.19.5)\n",
            "Requirement already satisfied: scipy>=0.19.1 in /usr/local/lib/python3.7/dist-packages (from imbalanced-learn->imblearn) (1.4.1)\n",
            "Requirement already satisfied: joblib>=0.11 in /usr/local/lib/python3.7/dist-packages (from imbalanced-learn->imblearn) (1.0.1)\n",
            "Requirement already satisfied: threadpoolctl>=2.0.0 in /usr/local/lib/python3.7/dist-packages (from scikit-learn>=0.24->imbalanced-learn->imblearn) (2.2.0)\n"
          ]
        }
      ]
    },
    {
      "cell_type": "code",
      "metadata": {
        "colab": {
          "base_uri": "https://localhost:8080/"
        },
        "id": "vsHNpyhd_nlw",
        "outputId": "cc83a5aa-36c0-495d-9235-5ca8febf1fd4"
      },
      "source": [
        "from google.colab import drive\n",
        "drive.mount('/gdrive')\n",
        "%cd /gdrive"
      ],
      "execution_count": 1,
      "outputs": [
        {
          "output_type": "stream",
          "name": "stdout",
          "text": [
            "Drive already mounted at /gdrive; to attempt to forcibly remount, call drive.mount(\"/gdrive\", force_remount=True).\n",
            "/gdrive\n"
          ]
        }
      ]
    },
    {
      "cell_type": "code",
      "metadata": {
        "colab": {
          "base_uri": "https://localhost:8080/"
        },
        "id": "nGepbr3mATpG",
        "outputId": "00066bc2-a5c7-4881-afb4-522fab1c9f27"
      },
      "source": [
        "import os\n",
        "os.chdir(\"/gdrive/\")\n",
        "!ls"
      ],
      "execution_count": 2,
      "outputs": [
        {
          "output_type": "stream",
          "name": "stdout",
          "text": [
            "MyDrive\n"
          ]
        }
      ]
    },
    {
      "cell_type": "code",
      "metadata": {
        "id": "lIMwSuveAYac"
      },
      "source": [
        "os.chdir(\"/gdrive/MyDrive/Colab Notebooks\")"
      ],
      "execution_count": 3,
      "outputs": []
    },
    {
      "cell_type": "code",
      "metadata": {
        "colab": {
          "base_uri": "https://localhost:8080/",
          "height": 203
        },
        "id": "QAR8R2iVAdWy",
        "outputId": "a4f4012d-1c85-4609-dca8-45e765f34f32"
      },
      "source": [
        "import pandas as pd\n",
        "import numpy as np\n",
        "\n",
        "# Load twitter dataset as a pandas dataframe\n",
        "# dataset source - https://www.kaggle.com/arkhoshghalb/twitter-sentiment-analysis-hatred-speech\n",
        "tweets_df = pd.read_csv(\"twitter.csv\")\n",
        "tweets_df.head()"
      ],
      "execution_count": 4,
      "outputs": [
        {
          "output_type": "execute_result",
          "data": {
            "text/html": [
              "<div>\n",
              "<style scoped>\n",
              "    .dataframe tbody tr th:only-of-type {\n",
              "        vertical-align: middle;\n",
              "    }\n",
              "\n",
              "    .dataframe tbody tr th {\n",
              "        vertical-align: top;\n",
              "    }\n",
              "\n",
              "    .dataframe thead th {\n",
              "        text-align: right;\n",
              "    }\n",
              "</style>\n",
              "<table border=\"1\" class=\"dataframe\">\n",
              "  <thead>\n",
              "    <tr style=\"text-align: right;\">\n",
              "      <th></th>\n",
              "      <th>id</th>\n",
              "      <th>label</th>\n",
              "      <th>tweet</th>\n",
              "    </tr>\n",
              "  </thead>\n",
              "  <tbody>\n",
              "    <tr>\n",
              "      <th>0</th>\n",
              "      <td>1</td>\n",
              "      <td>0</td>\n",
              "      <td>@user when a father is dysfunctional and is s...</td>\n",
              "    </tr>\n",
              "    <tr>\n",
              "      <th>1</th>\n",
              "      <td>2</td>\n",
              "      <td>0</td>\n",
              "      <td>@user @user thanks for #lyft credit i can't us...</td>\n",
              "    </tr>\n",
              "    <tr>\n",
              "      <th>2</th>\n",
              "      <td>3</td>\n",
              "      <td>0</td>\n",
              "      <td>bihday your majesty</td>\n",
              "    </tr>\n",
              "    <tr>\n",
              "      <th>3</th>\n",
              "      <td>4</td>\n",
              "      <td>0</td>\n",
              "      <td>#model   i love u take with u all the time in ...</td>\n",
              "    </tr>\n",
              "    <tr>\n",
              "      <th>4</th>\n",
              "      <td>5</td>\n",
              "      <td>0</td>\n",
              "      <td>factsguide: society now    #motivation</td>\n",
              "    </tr>\n",
              "  </tbody>\n",
              "</table>\n",
              "</div>"
            ],
            "text/plain": [
              "   id  label                                              tweet\n",
              "0   1      0   @user when a father is dysfunctional and is s...\n",
              "1   2      0  @user @user thanks for #lyft credit i can't us...\n",
              "2   3      0                                bihday your majesty\n",
              "3   4      0  #model   i love u take with u all the time in ...\n",
              "4   5      0             factsguide: society now    #motivation"
            ]
          },
          "metadata": {},
          "execution_count": 4
        }
      ]
    },
    {
      "cell_type": "code",
      "metadata": {
        "colab": {
          "base_uri": "https://localhost:8080/"
        },
        "id": "bEIiVxCkA0CM",
        "outputId": "ff71c778-ab51-4c46-e65b-26ada654c48e"
      },
      "source": [
        "print(\"A tweet with positive sentiment:\", tweets_df[tweets_df['label']==0].tweet.iloc[3])\n",
        "print(\"A tweet with negative sentiment:\", tweets_df[tweets_df['label']==1].tweet.iloc[5])"
      ],
      "execution_count": 5,
      "outputs": [
        {
          "output_type": "stream",
          "name": "stdout",
          "text": [
            "A tweet with positive sentiment: #model   i love u take with u all the time in urð±!!! ððððð¦ð¦ð¦  \n",
            "A tweet with negative sentiment: @user lets fight against  #love #peace \n"
          ]
        }
      ]
    },
    {
      "cell_type": "code",
      "metadata": {
        "id": "QHScjke0A1V_"
      },
      "source": [
        "tweets_df.drop(['id'], axis=1, inplace=True) #inplace=True drops 'id' column in the original dataframe"
      ],
      "execution_count": 6,
      "outputs": []
    },
    {
      "cell_type": "code",
      "metadata": {
        "colab": {
          "base_uri": "https://localhost:8080/",
          "height": 296
        },
        "id": "l3vLnk46A4iR",
        "outputId": "3c7d8dcb-613f-40d0-c576-32efcd99a529"
      },
      "source": [
        "import matplotlib.pyplot as plt\n",
        "import seaborn as sns\n",
        "sns.countplot(x='label', data=tweets_df)"
      ],
      "execution_count": 7,
      "outputs": [
        {
          "output_type": "execute_result",
          "data": {
            "text/plain": [
              "<matplotlib.axes._subplots.AxesSubplot at 0x7f09280871d0>"
            ]
          },
          "metadata": {},
          "execution_count": 7
        },
        {
          "output_type": "display_data",
          "data": {
            "image/png": "[encoded data removed]",
            "text/plain": [
              "<Figure size 432x288 with 1 Axes>"
            ]
          },
          "metadata": {
            "needs_background": "light"
          }
        }
      ]
    },
    {
      "cell_type": "code",
      "metadata": {
        "colab": {
          "base_uri": "https://localhost:8080/"
        },
        "id": "f565MJBiA7UN",
        "outputId": "dec28c5a-071d-4216-fea7-de9ef17b166f"
      },
      "source": [
        "import string\n",
        "import nltk # Natural Language tool kit \n",
        "nltk.download('stopwords')\n",
        "from nltk.corpus import stopwords\n",
        "#print(string.punctuation)\n",
        "#print(stopwords.words('english'))\n",
        "\n",
        "# Create cleaned stopwords list by removing punctuations\n",
        "stopwords_new = stopwords.words('english')+['user'] # add the word 'user' as a stopword since it has no value\n",
        "stopwords_new = ''.join([ch for ch in ' '.join(stopwords_new) if ch not in string.punctuation]).split(' ')\n",
        "\n",
        "# Create a function that filters punctuations and stop words from any text\n",
        "def preprocess_text(text):\n",
        "    filtered_text = ''.join([ch for ch in text if ch not in string.punctuation])\n",
        "    preprocessed_text = ' '.join([word for word in filtered_text.split() if word.lower() not in stopwords_new])\n",
        "    return preprocessed_text"
      ],
      "execution_count": 8,
      "outputs": [
        {
          "output_type": "stream",
          "name": "stdout",
          "text": [
            "[nltk_data] Downloading package stopwords to /root/nltk_data...\n",
            "[nltk_data]   Package stopwords is already up-to-date!\n"
          ]
        }
      ]
    },
    {
      "cell_type": "code",
      "metadata": {
        "colab": {
          "base_uri": "https://localhost:8080/",
          "height": 144
        },
        "id": "HHF0t5kRA9QB",
        "outputId": "348a04fe-15a2-4a16-91b0-c52169c50fae"
      },
      "source": [
        "# Use the above function on every row of our tweets_df\n",
        "tweets_df['clean_tweet'] = tweets_df.tweet.map(lambda row: preprocess_text(row))\n",
        "tweets_df.head(2)"
      ],
      "execution_count": 9,
      "outputs": [
        {
          "output_type": "execute_result",
          "data": {
            "text/html": [
              "<div>\n",
              "<style scoped>\n",
              "    .dataframe tbody tr th:only-of-type {\n",
              "        vertical-align: middle;\n",
              "    }\n",
              "\n",
              "    .dataframe tbody tr th {\n",
              "        vertical-align: top;\n",
              "    }\n",
              "\n",
              "    .dataframe thead th {\n",
              "        text-align: right;\n",
              "    }\n",
              "</style>\n",
              "<table border=\"1\" class=\"dataframe\">\n",
              "  <thead>\n",
              "    <tr style=\"text-align: right;\">\n",
              "      <th></th>\n",
              "      <th>label</th>\n",
              "      <th>tweet</th>\n",
              "      <th>clean_tweet</th>\n",
              "    </tr>\n",
              "  </thead>\n",
              "  <tbody>\n",
              "    <tr>\n",
              "      <th>0</th>\n",
              "      <td>0</td>\n",
              "      <td>@user when a father is dysfunctional and is s...</td>\n",
              "      <td>father dysfunctional selfish drags kids dysfun...</td>\n",
              "    </tr>\n",
              "    <tr>\n",
              "      <th>1</th>\n",
              "      <td>0</td>\n",
              "      <td>@user @user thanks for #lyft credit i can't us...</td>\n",
              "      <td>thanks lyft credit cant use cause offer wheelc...</td>\n",
              "    </tr>\n",
              "  </tbody>\n",
              "</table>\n",
              "</div>"
            ],
            "text/plain": [
              "   label  ...                                        clean_tweet\n",
              "0      0  ...  father dysfunctional selfish drags kids dysfun...\n",
              "1      0  ...  thanks lyft credit cant use cause offer wheelc...\n",
              "\n",
              "[2 rows x 3 columns]"
            ]
          },
          "metadata": {},
          "execution_count": 9
        }
      ]
    },
    {
      "cell_type": "code",
      "metadata": {
        "colab": {
          "base_uri": "https://localhost:8080/"
        },
        "id": "cit0FuYnBHY7",
        "outputId": "0df91c4c-d35c-41ad-ca59-d970f202e0b4"
      },
      "source": [
        "from sklearn.feature_extraction.text import CountVectorizer\n",
        "countvectorizer_obj = CountVectorizer(dtype = 'uint8') # dtype describes the datatype of each element of the Count matrix\n",
        "# Unsigned integer of 8 bits can take any value between 0 and 255 (=2^8-1). Since number of characters in a tweet is \n",
        "# fixed at 140 (now 280 - https://help.twitter.com/en/using-twitter/how-to-tweet), we do not expect any tweet to \n",
        "# have a word that is repeated 255 times.\n",
        "tweets_countvectorizer = countvectorizer_obj.fit_transform(tweets_df['clean_tweet'])\n",
        "tweets_countvectorizer.shape"
      ],
      "execution_count": 10,
      "outputs": [
        {
          "output_type": "execute_result",
          "data": {
            "text/plain": [
              "(31962, 43654)"
            ]
          },
          "metadata": {},
          "execution_count": 10
        }
      ]
    },
    {
      "cell_type": "code",
      "metadata": {
        "id": "TOFCWdLoBIzH"
      },
      "source": [
        "X = pd.DataFrame(tweets_countvectorizer.toarray())\n",
        "y = tweets_df['label']"
      ],
      "execution_count": 11,
      "outputs": []
    },
    {
      "cell_type": "code",
      "metadata": {
        "id": "YHaWOwWMBOlr"
      },
      "source": [
        "from sklearn.model_selection import train_test_split\n",
        "train_X, dev_X, train_y, dev_y = train_test_split(X, y, test_size=0.2, stratify=tweets_df['label'])"
      ],
      "execution_count": 12,
      "outputs": []
    },
    {
      "cell_type": "code",
      "metadata": {
        "colab": {
          "base_uri": "https://localhost:8080/"
        },
        "id": "2UJWGRSXBQ5X",
        "outputId": "69381b1b-1861-4240-8c85-e0387f85f1df"
      },
      "source": [
        "print('Training dataset')\n",
        "\n",
        "print('Total number of tweets: ', len(train_y))\n",
        "print('Number of positive tweets: ', sum(train_y==0))\n",
        "print('Number of negative tweets: ', sum(train_y==1))\n",
        "\n",
        "\n",
        "print('\\nValidation dataset')\n",
        "\n",
        "print('Total number of tweets: ', len(dev_y))\n",
        "print('Number of positive tweets: ', sum(dev_y==0))\n",
        "print('Number of negative tweets: ', sum(dev_y==1))"
      ],
      "execution_count": 13,
      "outputs": [
        {
          "output_type": "stream",
          "name": "stdout",
          "text": [
            "Training dataset\n",
            "Total number of tweets:  25569\n",
            "Number of positive tweets:  23775\n",
            "Number of negative tweets:  1794\n",
            "\n",
            "Validation dataset\n",
            "Total number of tweets:  6393\n",
            "Number of positive tweets:  5945\n",
            "Number of negative tweets:  448\n"
          ]
        }
      ]
    },
    {
      "cell_type": "code",
      "metadata": {
        "colab": {
          "base_uri": "https://localhost:8080/"
        },
        "id": "pf-d8EwDBTts",
        "outputId": "59c2e44e-e715-4211-d1b2-7c6145c094ba"
      },
      "source": [
        "# Load imblearn python package for handling imbalanced dataset\n",
        "# To install imblearn package, uncomment the below line of code\n",
        "#!pip install imblearn\n",
        "import imblearn\n",
        "print(imblearn.__version__)"
      ],
      "execution_count": 14,
      "outputs": [
        {
          "output_type": "stream",
          "name": "stdout",
          "text": [
            "0.8.0\n"
          ]
        }
      ]
    },
    {
      "cell_type": "code",
      "metadata": {
        "id": "UWPSrezkBUu2"
      },
      "source": [
        "oversample = imblearn.over_sampling.RandomOverSampler(sampling_strategy='minority') #sampling_strategy lets you \n",
        "# define imbalanced data handling strategy\n",
        "# For more details, see https://imbalanced-learn.org/dev/references/generated/imblearn.over_sampling.RandomOverSampler.html\n",
        "oversampled_train_X, oversampled_train_y = oversample.fit_resample(train_X, train_y)"
      ],
      "execution_count": 15,
      "outputs": []
    },
    {
      "cell_type": "code",
      "metadata": {
        "colab": {
          "base_uri": "https://localhost:8080/"
        },
        "id": "x0HFX0ucEApz",
        "outputId": "706615a3-e0c9-4134-81d8-02ee2db7e74f"
      },
      "source": [
        "print('After balancing the training dataset')\n",
        "\n",
        "print('Number of positive tweets: ', sum(oversampled_train_y==0))\n",
        "print('Number of negative tweets: ', sum(oversampled_train_y==1))"
      ],
      "execution_count": 16,
      "outputs": [
        {
          "output_type": "stream",
          "name": "stdout",
          "text": [
            "After balancing the training dataset\n",
            "Number of positive tweets:  23775\n",
            "Number of negative tweets:  23775\n"
          ]
        }
      ]
    },
    {
      "cell_type": "code",
      "metadata": {
        "colab": {
          "base_uri": "https://localhost:8080/"
        },
        "id": "mf9lWzVUEEDq",
        "outputId": "62d7c554-9ac0-4ba0-cf1d-8d28eebcf796"
      },
      "source": [
        "oversampled_train_X.shape"
      ],
      "execution_count": 17,
      "outputs": [
        {
          "output_type": "execute_result",
          "data": {
            "text/plain": [
              "(47550, 43654)"
            ]
          },
          "metadata": {},
          "execution_count": 17
        }
      ]
    },
    {
      "cell_type": "code",
      "metadata": {
        "id": "tyf6JCZoEIB2"
      },
      "source": [
        "from sklearn.linear_model import LogisticRegression\n",
        "lr_model_obj = LogisticRegression(random_state=0, solver='saga')\n",
        "lr_model = lr_model_obj.fit(oversampled_train_X, oversampled_train_y)"
      ],
      "execution_count": null,
      "outputs": []
    },
    {
      "cell_type": "markdown",
      "metadata": {
        "id": "OmcVUkOPF8ar"
      },
      "source": [
        "The last code block did not run as RAM crashed."
      ]
    },
    {
      "cell_type": "code",
      "metadata": {
        "id": "XmOvGY60F4KM"
      },
      "source": [
        ""
      ],
      "execution_count": null,
      "outputs": []
    }
  ]
}